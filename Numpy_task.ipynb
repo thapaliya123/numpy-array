{
 "cells": [
  {
   "cell_type": "markdown",
   "metadata": {},
   "source": [
    "# `Numpy Array`"
   ]
  },
  {
   "cell_type": "markdown",
   "metadata": {},
   "source": [
    "## Table of contents\n",
    "- Numpy Array manipulation\n",
    "   - Attributes\n",
    "   - Indexing\n",
    "   - Slicing\n",
    "   - Reshaping\n",
    "   - Joining\n",
    "   - Splitting\n",
    "- Find index of all `peaks` in a 1D array\n",
    "- Subtract a 1D array from the 2D array\n",
    "\n",
    "\n",
    "\n",
    "- Read: **15 min**"
   ]
  },
  {
   "cell_type": "markdown",
   "metadata": {},
   "source": [
    "## Numpy Array Manipulation\n",
    "- **Atributes**\n",
    "- **Indexing**\n",
    "- **Slicing**\n",
    "- **Reshaping**\n",
    "- **Joining-Splitting**"
   ]
  },
  {
   "cell_type": "markdown",
   "metadata": {},
   "source": [
    "### Attributes\n",
    "- **ndarray.ndim:** _Represents the number of dimensions(axes) of the ndarray_\n",
    "- **ndarray.shape:** _Gives the tuple of integers representing the size of the ndarray in each dimension_\n",
    "- **ndarray.size:** _Gives the total number of elements in the ndarray. Equals to the product of elements of the result of the attribute **shape**_\n",
    "- **ndarray.dtype:** _tells the data type of the elements of a Numpy array. In Numpy array, all the elements have the same data type._\n",
    "- **ndarray.itemsize:** _returns the size(in bytes) of each element of a Numpy array._\n",
    "\n",
    "First, let's create a numpy array from list to work on and let's see example for each of the **attributes** mention above:"
   ]
  },
  {
   "cell_type": "code",
   "execution_count": 2,
   "metadata": {},
   "outputs": [],
   "source": [
    "# import \n",
    "import numpy as np\n",
    "import matplotlib.pyplot as plt"
   ]
  },
  {
   "cell_type": "code",
   "execution_count": 3,
   "metadata": {},
   "outputs": [
    {
     "data": {
      "text/plain": [
       "array([[3, 4, 6],\n",
       "       [0, 8, 1]])"
      ]
     },
     "execution_count": 3,
     "metadata": {},
     "output_type": "execute_result"
    }
   ],
   "source": [
    "# create array\n",
    "sample_array = np.array([[3, 4, 6], [0, 8, 1]])\n",
    "sample_array"
   ]
  },
  {
   "cell_type": "markdown",
   "metadata": {},
   "source": [
    "Now, let's understand mentioned **attributes** of numpy array:"
   ]
  },
  {
   "cell_type": "code",
   "execution_count": 4,
   "metadata": {},
   "outputs": [
    {
     "name": "stdout",
     "output_type": "stream",
     "text": [
      "The dimension of sample array is: 2\n"
     ]
    }
   ],
   "source": [
    "# ndarray.ndim\n",
    "print(f\"The dimension of sample array is: {sample_array.ndim}\")"
   ]
  },
  {
   "cell_type": "code",
   "execution_count": 5,
   "metadata": {},
   "outputs": [
    {
     "name": "stdout",
     "output_type": "stream",
     "text": [
      "The shape of sample array is: (2, 3)\n"
     ]
    }
   ],
   "source": [
    "# ndarray.shape\n",
    "print(f\"The shape of sample array is: {sample_array.shape}\")"
   ]
  },
  {
   "cell_type": "code",
   "execution_count": 6,
   "metadata": {},
   "outputs": [
    {
     "name": "stdout",
     "output_type": "stream",
     "text": [
      "The total number of elements in the sample array is: 6\n"
     ]
    }
   ],
   "source": [
    "# ndarray.size\n",
    "print(f\"The total number of elements in the sample array is: {sample_array.size}\")"
   ]
  },
  {
   "cell_type": "code",
   "execution_count": 7,
   "metadata": {},
   "outputs": [
    {
     "name": "stdout",
     "output_type": "stream",
     "text": [
      "The data type of elements of sample array is: int64\n"
     ]
    }
   ],
   "source": [
    "# ndrray.dtype\n",
    "print(f\"The data type of elements of sample array is: {sample_array.dtype}\")"
   ]
  },
  {
   "cell_type": "code",
   "execution_count": 8,
   "metadata": {},
   "outputs": [
    {
     "name": "stdout",
     "output_type": "stream",
     "text": [
      "The size of each element in the numpy array is: 8\n"
     ]
    }
   ],
   "source": [
    "# ndarray.itemsize, returns the size (in bytes) of each element of a Numpy array\n",
    "print(f\"The size of each element in the numpy array is: {sample_array.itemsize}\")"
   ]
  },
  {
   "cell_type": "markdown",
   "metadata": {},
   "source": [
    "### Indexing \n",
    "- **Introduction**\n",
    "- **Indexing 1D array**\n",
    "- **Indexing 2D array**"
   ]
  },
  {
   "cell_type": "markdown",
   "metadata": {},
   "source": [
    "#### Introduction:\n",
    "- Array indexing is same as accessing an array element\n",
    "- Accessing element can take place by referring to its index number\n",
    "- The indexes in Numpy array starts with 0, meaning that the first element has index 0, and the second has index 1 etc."
   ]
  },
  {
   "cell_type": "markdown",
   "metadata": {},
   "source": [
    "#### Indexing 1D array\n",
    "- Indexing 1D array means accessing element via 1D array\n",
    "- **Pictorial Expalanation:**\n",
    "\n",
    "![image description](https://s3-api.us-geo.objectstorage.softlayer.net/cf-courses-data/CognitiveClass/PY0101EN/Chapter%205/Images/NumOneNp.png)"
   ]
  },
  {
   "cell_type": "code",
   "execution_count": 9,
   "metadata": {},
   "outputs": [
    {
     "name": "stdout",
     "output_type": "stream",
     "text": [
      "a[0]:  0\n",
      "a[1]:  1\n",
      "a[2]:  2\n",
      "a[3]:  3\n"
     ]
    }
   ],
   "source": [
    "# create a demo 1D array\n",
    "one_d_array = np.array([0, 1, 2, 3, 4])\n",
    "\n",
    "# print each element\n",
    "print(\"a[0]: \", one_d_array[0])\n",
    "print(\"a[1]: \", one_d_array[1])\n",
    "print(\"a[2]: \", one_d_array[2])\n",
    "print(\"a[3]: \", one_d_array[3])"
   ]
  },
  {
   "cell_type": "markdown",
   "metadata": {},
   "source": [
    "### Indexing 2D array\n",
    "- Indexing 2D array is same to the accessing element via 2D array\n",
    "- We use rectangular bracket to access the different elements via 2D array\n",
    "- **Pictorial Representation:**\n",
    "\n",
    "![Indexing 2D array](https://s3-api.us-geo.objectstorage.softlayer.net/cf-courses-data/CognitiveClass/PY0101EN/Chapter%205/Images/NumTwoFT.png)"
   ]
  },
  {
   "cell_type": "code",
   "execution_count": 9,
   "metadata": {},
   "outputs": [
    {
     "name": "stdout",
     "output_type": "stream",
     "text": [
      "Accessing the element on the second row and third column: 23\n",
      "Accessing the element on the third row and third column: 33\n"
     ]
    }
   ],
   "source": [
    "# create 2D array\n",
    "\n",
    "a = np.array([[11, 12, 13], [21, 22, 23], [31, 32, 33]])\n",
    "\n",
    "# Access the element on the second row and third column\n",
    "\n",
    "print(f\"Accessing the element on the second row and third column: {a[1, 2]}\")\n",
    "print(f\"Accessing the element on the third row and third column: {a[2][2]}\")"
   ]
  },
  {
   "cell_type": "markdown",
   "metadata": {},
   "source": [
    "### Slicing  \n",
    "- **Introduction**\n",
    "- **Slicing 1D array**\n",
    "- **Slicing 2D array**"
   ]
  },
  {
   "cell_type": "markdown",
   "metadata": {},
   "source": [
    "#### Introduction:\n",
    "- Slicing in python means taking elements from one given index to another given index.\n",
    "- Like lists, we can slice the numpy array\n",
    "- We pass slice instead of index like this: **[start:end].**\n",
    "- We can also define the step like this: **[start:end].**\n",
    "- If we don't pass start its considered 0\n",
    "- If we don't pass end its considered length of array in that dimension\n",
    "- If we don't pass step its considered 1"
   ]
  },
  {
   "cell_type": "markdown",
   "metadata": {},
   "source": [
    "#### Slicing 1D array\n",
    "`Q. Slice elements from index 1 to index 5 from the following array`"
   ]
  },
  {
   "cell_type": "code",
   "execution_count": 10,
   "metadata": {},
   "outputs": [
    {
     "name": "stdout",
     "output_type": "stream",
     "text": [
      "Slicing from index 1 to 5: [2 3 4 5]\n"
     ]
    }
   ],
   "source": [
    "arr = np.array([1, 2, 3, 4, 5, 6, 7])\n",
    "\n",
    "print(f\"Slicing from index 1 to 5: {arr[1:5]}\")"
   ]
  },
  {
   "cell_type": "markdown",
   "metadata": {},
   "source": [
    "**Note:** The result _includes_ the start index, but excludes the end index"
   ]
  },
  {
   "cell_type": "markdown",
   "metadata": {},
   "source": [
    "`<code>Q. Slice elements from index 4 to the end of the array:`"
   ]
  },
  {
   "cell_type": "code",
   "execution_count": 11,
   "metadata": {},
   "outputs": [
    {
     "name": "stdout",
     "output_type": "stream",
     "text": [
      "Slicing from index 4 to the end of the array is: [5 6 7]\n"
     ]
    }
   ],
   "source": [
    "arr = np.array([1, 2, 3, 4, 5, 6, 7])\n",
    "\n",
    "print(f\"Slicing from index 4 to the end of the array is: {arr[4:]}\")"
   ]
  },
  {
   "cell_type": "markdown",
   "metadata": {},
   "source": [
    "`Q. Slice elements from the beginning to index 4 (not included)`"
   ]
  },
  {
   "cell_type": "code",
   "execution_count": 77,
   "metadata": {},
   "outputs": [
    {
     "name": "stdout",
     "output_type": "stream",
     "text": [
      "Slicing element from begining to index 4 (not included): [[ 1  2  3]\n",
      " [ 4  5  6]\n",
      " [ 7  8  9]\n",
      " [10 11 12]]\n"
     ]
    }
   ],
   "source": [
    "print(f\"Slicing element from begining to index 4 (not included): {arr[:4]}\")"
   ]
  },
  {
   "cell_type": "markdown",
   "metadata": {},
   "source": [
    "`Negative Slicing:` _use the minus operator to refer to an index from the end_  \n",
    "`Q. Slice from the index 3 from the end to index 1 from the end`"
   ]
  },
  {
   "cell_type": "code",
   "execution_count": 13,
   "metadata": {},
   "outputs": [
    {
     "name": "stdout",
     "output_type": "stream",
     "text": [
      "Slice from the index 3 from the end to index 1 from the end: [5 6]\n"
     ]
    }
   ],
   "source": [
    "print(f\"Slice from the index 3 from the end to index 1 from the end: {arr[-3:-1]}\")"
   ]
  },
  {
   "cell_type": "markdown",
   "metadata": {},
   "source": [
    "`**STEP:**` use the **step** value to determine the step of the slicing  \n",
    "\n",
    "`Q. Use the step value to determine the step of slicing`"
   ]
  },
  {
   "cell_type": "code",
   "execution_count": 14,
   "metadata": {},
   "outputs": [
    {
     "name": "stdout",
     "output_type": "stream",
     "text": [
      "Slicing array from index 1 to index 5 with the step of 2: [2 4]\n"
     ]
    }
   ],
   "source": [
    "print(f\"Slicing array from index 1 to index 5 with the step of 2: {arr[1:5:2]}\")"
   ]
  },
  {
   "cell_type": "markdown",
   "metadata": {},
   "source": [
    "`Q. return every element from numpy array with step 2.`"
   ]
  },
  {
   "cell_type": "code",
   "execution_count": 15,
   "metadata": {},
   "outputs": [
    {
     "name": "stdout",
     "output_type": "stream",
     "text": [
      "Every element from numpy array with the step: [1 3 5 7]\n"
     ]
    }
   ],
   "source": [
    "print(f\"Every element from numpy array with the step: {arr[::2]}\")"
   ]
  },
  {
   "cell_type": "markdown",
   "metadata": {},
   "source": [
    "#### Slicing 2D array\n",
    "- `Pictorial Representation`\n",
    "\n",
    "![Slicing 2D array](https://s3-api.us-geo.objectstorage.softlayer.net/cf-courses-data/CognitiveClass/PY0101EN/Chapter%205/Images/NumTwoFSF.png)\n",
    "\n",
    "`Here we would like to obtain first two columns in the first row`"
   ]
  },
  {
   "cell_type": "code",
   "execution_count": 16,
   "metadata": {},
   "outputs": [
    {
     "data": {
      "text/plain": [
       "array([[11, 12, 13],\n",
       "       [21, 22, 23],\n",
       "       [31, 32, 33]])"
      ]
     },
     "execution_count": 16,
     "metadata": {},
     "output_type": "execute_result"
    }
   ],
   "source": [
    "# create 2D array\n",
    "\n",
    "# create a list\n",
    "sample_list = [\n",
    "    [11, 12, 13],\n",
    "    [21, 22, 23],\n",
    "    [31, 32, 33]\n",
    "]\n",
    "\n",
    "array_from_list = np.array(sample_list)\n",
    "array_from_list"
   ]
  },
  {
   "cell_type": "code",
   "execution_count": 17,
   "metadata": {},
   "outputs": [
    {
     "name": "stdout",
     "output_type": "stream",
     "text": [
      "accessing first two columns in the first row:  [11 12]\n"
     ]
    }
   ],
   "source": [
    "# accessing first two columns in the first row\n",
    "print(\"accessing first two columns in the first row: \", array_from_list[0, 0:2])"
   ]
  },
  {
   "cell_type": "code",
   "execution_count": 18,
   "metadata": {},
   "outputs": [
    {
     "name": "stdout",
     "output_type": "stream",
     "text": [
      "accessing the element on the first and second rows and third columns [23 33]\n"
     ]
    }
   ],
   "source": [
    "# similarly accessing the element on the first and second rows and third columns\n",
    "print(\"accessing the element on the first and second rows and third columns\", array_from_list[1:3, 2])"
   ]
  },
  {
   "cell_type": "markdown",
   "metadata": {},
   "source": [
    "`Process Demonstration:`  \n",
    "![Slicing Process Demonstration](https://s3-api.us-geo.objectstorage.softlayer.net/cf-courses-data/CognitiveClass/PY0101EN/Chapter%205/Images/NumTwoTST.png)"
   ]
  },
  {
   "cell_type": "markdown",
   "metadata": {},
   "source": [
    "### Reshaping\n",
    "\n",
    "- _**Introduction**_\n",
    "- _**Reshape From 1D to 2D**_\n",
    "- _**Reshape From 1D to 3D**_\n",
    "- _**Can We Reshape Into any Shape**_\n",
    "- _**Flattening the arrays**_\n",
    "- _**Ravel()**_\n",
    "- _**Difference between Flatten() and Ravel()**_"
   ]
  },
  {
   "cell_type": "markdown",
   "metadata": {},
   "source": [
    "#### Introduction\n",
    "- Reshaping means changing the shape of an array\n",
    "- The shape of an array is the number of elements in each dimension\n",
    "- By reshaping we can add or remove dimensions or change the number of elements in each dimension"
   ]
  },
  {
   "cell_type": "markdown",
   "metadata": {},
   "source": [
    "#### Reshape From 1D to 2D\n",
    "\n",
    "`Q. Convert the following 1D array with 12 elements into a 2D array`"
   ]
  },
  {
   "cell_type": "code",
   "execution_count": 19,
   "metadata": {},
   "outputs": [
    {
     "name": "stdout",
     "output_type": "stream",
     "text": [
      "array before reshaping:\n",
      " [ 1  2  3  4  5  6  7  8  9 10 11 12]\n",
      "\n",
      "array after reshaping to shape (4, 3):\n",
      " [[ 1  2  3]\n",
      " [ 4  5  6]\n",
      " [ 7  8  9]\n",
      " [10 11 12]]\n"
     ]
    }
   ],
   "source": [
    "# create a array\n",
    "arr = np.array([1, 2, 3, 4, 5, 6, 7, 8, 9, 10, 11, 12])\n",
    "\n",
    "new_arr = arr.reshape(4, 3)\n",
    "\n",
    "print(f\"array before reshaping:\\n {arr}\")\n",
    "\n",
    "print(f\"\\narray after reshaping to shape (4, 3):\\n {new_arr}\")"
   ]
  },
  {
   "cell_type": "markdown",
   "metadata": {},
   "source": [
    "As we can see outermost dimension has 4 arrays, each with 3 elements"
   ]
  },
  {
   "cell_type": "markdown",
   "metadata": {},
   "source": [
    "### Reshape From 1D to 3D\n",
    "- to give shape factor 1D length by 2\n",
    "- `Q. Covert the following 1D array with 12 elements into a 3D array`"
   ]
  },
  {
   "cell_type": "code",
   "execution_count": 20,
   "metadata": {},
   "outputs": [
    {
     "name": "stdout",
     "output_type": "stream",
     "text": [
      "array before reshaping to 3D is:\n",
      " [ 1  2  3  4  5  6  7  8  9 10 11 12]\n",
      "\n",
      "array after reshaping to 3D is:\n",
      " [[[ 1  2]\n",
      "  [ 3  4]\n",
      "  [ 5  6]]\n",
      "\n",
      " [[ 7  8]\n",
      "  [ 9 10]\n",
      "  [11 12]]]\n"
     ]
    }
   ],
   "source": [
    "# sample array\n",
    "arr = np.array([1, 2, 3, 4, 5, 6, 7, 8, 9, 10, 11, 12])\n",
    "\n",
    "# reshape to 3D array\n",
    "new_arr = arr.reshape(2, 3, 2)\n",
    "\n",
    "print(f\"array before reshaping to 3D is:\\n {arr}\")\n",
    "\n",
    "print(f\"\\narray after reshaping to 3D is:\\n {new_arr}\")"
   ]
  },
  {
   "cell_type": "markdown",
   "metadata": {},
   "source": [
    "#### Can We Reshape Into any Shape\n",
    "- **Yes**, as long as the elements required for reshaping are equal in both shapes\n",
    "- `Q. Try Converting 1D array with 8 elements to a 2D array with 3 elements in each dimension`\n",
    "\n",
    "- `Note:` This process will raise an exception as there are 8 elements in 1D and 9 elements in 2D after reshaping"
   ]
  },
  {
   "cell_type": "code",
   "execution_count": 21,
   "metadata": {},
   "outputs": [
    {
     "ename": "ValueError",
     "evalue": "cannot reshape array of size 8 into shape (3,3)",
     "output_type": "error",
     "traceback": [
      "\u001b[0;31m---------------------------------------------------------------------------\u001b[0m",
      "\u001b[0;31mValueError\u001b[0m                                Traceback (most recent call last)",
      "\u001b[0;32m<ipython-input-21-416b01fa8732>\u001b[0m in \u001b[0;36m<module>\u001b[0;34m\u001b[0m\n\u001b[1;32m      2\u001b[0m \u001b[0;34m\u001b[0m\u001b[0m\n\u001b[1;32m      3\u001b[0m \u001b[0;31m# reshape to 3x3\u001b[0m\u001b[0;34m\u001b[0m\u001b[0;34m\u001b[0m\u001b[0;34m\u001b[0m\u001b[0m\n\u001b[0;32m----> 4\u001b[0;31m \u001b[0mnewarr\u001b[0m \u001b[0;34m=\u001b[0m \u001b[0marr\u001b[0m\u001b[0;34m.\u001b[0m\u001b[0mreshape\u001b[0m\u001b[0;34m(\u001b[0m\u001b[0;36m3\u001b[0m\u001b[0;34m,\u001b[0m \u001b[0;36m3\u001b[0m\u001b[0;34m)\u001b[0m\u001b[0;34m\u001b[0m\u001b[0;34m\u001b[0m\u001b[0m\n\u001b[0m\u001b[1;32m      5\u001b[0m \u001b[0;34m\u001b[0m\u001b[0m\n\u001b[1;32m      6\u001b[0m \u001b[0mprint\u001b[0m\u001b[0;34m(\u001b[0m\u001b[0mnewarr\u001b[0m\u001b[0;34m)\u001b[0m\u001b[0;34m\u001b[0m\u001b[0;34m\u001b[0m\u001b[0m\n",
      "\u001b[0;31mValueError\u001b[0m: cannot reshape array of size 8 into shape (3,3)"
     ]
    }
   ],
   "source": [
    "arr = np.array([1, 2, 3, 4, 5, 6, 7, 8])\n",
    "\n",
    "# reshape to 3x3\n",
    "newarr = arr.reshape(3, 3)\n",
    "\n",
    "print(newarr)"
   ]
  },
  {
   "cell_type": "markdown",
   "metadata": {},
   "source": [
    "As we can see this lead to an exception as expected"
   ]
  },
  {
   "cell_type": "markdown",
   "metadata": {},
   "source": [
    "#### Flattening The Arrays\n",
    "- Flattening the array means converting multidimensional array into a 1D array.\n",
    "- We can use `reshape(-1)` to do this.\n",
    "\n",
    "- `Q. Convert the array into a 1D array`"
   ]
  },
  {
   "cell_type": "code",
   "execution_count": 22,
   "metadata": {},
   "outputs": [
    {
     "name": "stdout",
     "output_type": "stream",
     "text": [
      "Array before flattening:\n",
      "[[1 2 3]\n",
      " [4 5 6]]\n",
      "\n",
      "Array after flattening:\n",
      "[1 2 3 4 5 6]\n"
     ]
    }
   ],
   "source": [
    "# create sample array\n",
    "arr = np.array([[1, 2, 3], [4, 5, 6]])\n",
    "\n",
    "# Flatten the array\n",
    "new_arr = arr.reshape(-1)\n",
    "\n",
    "print(f\"Array before flattening:\\n{arr}\")\n",
    "print(f\"\\nArray after flattening:\\n{new_arr}\")"
   ]
  },
  {
   "cell_type": "markdown",
   "metadata": {},
   "source": [
    "#### Ravel()\n",
    "- returns contiguous flattened array(1D array with all the input-array elements and with the same type as it)\n",
    "- A copy is made only if needed"
   ]
  },
  {
   "cell_type": "code",
   "execution_count": 23,
   "metadata": {},
   "outputs": [
    {
     "name": "stdout",
     "output_type": "stream",
     "text": [
      "ravel array: [1 2 3 4 5 6]\n"
     ]
    }
   ],
   "source": [
    "# ravel\n",
    "print(f\"ravel array: {arr.ravel()}\")"
   ]
  },
  {
   "cell_type": "markdown",
   "metadata": {},
   "source": [
    "#### Difference between Flatten() and Ravel()\n",
    "- `Ravel()`\n",
    "    - Returns only reference/view of origin\n",
    "    - If you modify the array you would notice that the value of original array also changes\n",
    "    - Ravel is faster than flatten() as it does not occupy any memory\n",
    "    - Ravel is a library-level function i.e. we can use **np.ravel(a, order=\"c\")**\n",
    "        \n",
    "- `Flatten()`\n",
    "    - Return copy of original array.\n",
    "    - If you modify any value of this array value of original array is not affected.\n",
    "    - Flatten() is comparatively slower than ravel() as it occupies memory.\n",
    "    - Flatten is a method of an ndarray object, i.e. **ndarray.flatten(a)**. We can't use  **np.flatten()**"
   ]
  },
  {
   "cell_type": "code",
   "execution_count": 24,
   "metadata": {},
   "outputs": [
    {
     "name": "stdout",
     "output_type": "stream",
     "text": [
      "Original array: \n",
      "[[1 2 3 4]\n",
      " [3 1 4 2]]\n",
      "\n",
      "Dimension of array:  2\n",
      "\n",
      "***Output for RAVEL*** \n",
      "\n",
      "[1 2 3 4 3 1 4 2]\n",
      "[1000    2    3    4    3    1    4    2]\n",
      "[[1000    2    3    4]\n",
      " [   3    1    4    2]]\n",
      "\n",
      "***Output for FLATTEN***\n",
      "\n",
      "[1000    2    3    4    3    1    4    2]\n",
      "[0 2 3 4 3 1 4 2]\n",
      "[[1000    2    3    4]\n",
      " [   3    1    4    2]]\n"
     ]
    }
   ],
   "source": [
    "# Python code to differentiate between flatten and ravel in numpy\n",
    "\n",
    "# create a numpy array\n",
    "a = np.array([[1, 2, 3, 4], [3, 1, 4, 2]])\n",
    "\n",
    "# print the array a\n",
    "print(f\"Original array: \\n{a}\")\n",
    "\n",
    "# check dimension of array\n",
    "print(\"\\nDimension of array: \", (a.ndim))\n",
    "\n",
    "print(\"\\n***Output for RAVEL*** \\n\")\n",
    "# convert nd array to 1D array\n",
    "b = a.ravel()\n",
    "\n",
    "# Ravel only passes a reference of original array to array 'b'\n",
    "print(b)\n",
    "b[0] = 1000\n",
    "print(b)\n",
    "\n",
    "# Note here that value of original array 'a' at a[0, 0] also becomes 1000\n",
    "print(a)\n",
    "\n",
    "print(\"\\n***Output for FLATTEN***\\n\")\n",
    "\n",
    "# convert nd array to 1D array\n",
    "c = a.flatten()\n",
    "\n",
    "# Flatten passes a copy of original array to 'c'\n",
    "print(c)\n",
    "c[0] = 0\n",
    "print(c)\n",
    "\n",
    "# Note now changing the value of c there is no affect on value of original array 'a'\n",
    "print(a)"
   ]
  },
  {
   "cell_type": "markdown",
   "metadata": {},
   "source": [
    "### Joining  \n",
    "   - **Introduction**\n",
    "   - **Joining Arrays Using Stack Functions**\n",
    "   - **Stacking Along Rows**\n",
    "   - **Stacking Along Columns**\n",
    "   - **Stacking Along Height (depth)**"
   ]
  },
  {
   "cell_type": "markdown",
   "metadata": {},
   "source": [
    "### Introduction\n",
    "   - Joining means putting content of two or more arrays in a single array.\n",
    "   - In SQL we join tables based on key, whereas in NumPy we join arrays by axes.\n",
    "   - we pass sequence of arrays that we want to join to the `concatenate()` function, along with the axes.\n",
    "   - If axis is not explicitly passed, it is taken as 0.\n",
    "   - After concatenating Dimensions of resulting array will be same as that of individual array.\n",
    "   - Order of concatenation will be based on the order in which array are passed to the `concatenate()` function\n",
    "   - **Example:**"
   ]
  },
  {
   "cell_type": "code",
   "execution_count": 2,
   "metadata": {},
   "outputs": [
    {
     "name": "stdout",
     "output_type": "stream",
     "text": [
      "Array 1: [1 2 3]\n",
      "Array 2: [4 5 6]\n",
      "Concatenating 1D array: [1 2 3 4 5 6]\n"
     ]
    }
   ],
   "source": [
    "arr1 = np.array([1, 2, 3])\n",
    "\n",
    "arr2 = np.array([4, 5, 6])\n",
    "\n",
    "# display array\n",
    "print(f\"Array 1: {arr1}\")\n",
    "print(f\"Array 2: {arr2}\")\n",
    "\n",
    "arr = np.concatenate((arr1, arr2))\n",
    "\n",
    "print(f\"Concatenating 1D array: {arr}\")"
   ]
  },
  {
   "cell_type": "markdown",
   "metadata": {},
   "source": [
    "`Q.Join two 2-D arrays along rows (axis=1)`"
   ]
  },
  {
   "cell_type": "code",
   "execution_count": 4,
   "metadata": {},
   "outputs": [
    {
     "data": {
      "text/plain": [
       "array([[1, 2, 5, 6],\n",
       "       [3, 4, 7, 8]])"
      ]
     },
     "execution_count": 4,
     "metadata": {},
     "output_type": "execute_result"
    }
   ],
   "source": [
    "arr1 = np.array([[1, 2], [3, 4]])\n",
    "\n",
    "arr2 = np.array([[5, 6], [7, 8]])\n",
    "\n",
    "arr = np.concatenate((arr1, arr2), axis=1)\n",
    "\n",
    "arr"
   ]
  },
  {
   "cell_type": "markdown",
   "metadata": {},
   "source": [
    "#### Joining Arrays Using Stack Functions \n",
    "   - Stacking is same as concatenation, the only difference is that stacking is done along a new axis.\n",
    "   - We concatenate two 1D arrays along the second axis which would result in putting them one over the other, i.e. **Stacking**\n",
    "   - We pass a sequence of arrays that we want to join to the `stack()` method along with the axis.\n",
    "   - If axis is not explicitly passed it is taken as 0."
   ]
  },
  {
   "cell_type": "code",
   "execution_count": 7,
   "metadata": {},
   "outputs": [
    {
     "name": "stdout",
     "output_type": "stream",
     "text": [
      "[[1 2]\n",
      " [3 4]]\n",
      "[[5 6]\n",
      " [7 8]]\n",
      "Joining Arrays Using Stack Functions: [[1 2 5 6]\n",
      " [3 4 7 8]]\n"
     ]
    }
   ],
   "source": [
    "arr = np.concatenate((arr1, arr2), axis=1)\n",
    "\n",
    "print(arr1)\n",
    "print(arr2)\n",
    "print(f\"Joining Arrays Using Stack Functions: {arr}\")"
   ]
  },
  {
   "cell_type": "markdown",
   "metadata": {},
   "source": [
    "#### Stacking Along Rows\n",
    "\n",
    "Numpy provides a helper function: `hstack()` to stack along rows"
   ]
  },
  {
   "cell_type": "code",
   "execution_count": 41,
   "metadata": {},
   "outputs": [
    {
     "name": "stdout",
     "output_type": "stream",
     "text": [
      "Stacking along rows: [[1 2 5 6]\n",
      " [3 4 7 8]]\n"
     ]
    }
   ],
   "source": [
    "stack_along_rows = np.hstack((arr1, arr2))\n",
    "\n",
    "print(f\"Stacking along rows: {stack_along_rows}\")"
   ]
  },
  {
   "cell_type": "markdown",
   "metadata": {},
   "source": [
    "#### Stacking Along Columns\n",
    "\n",
    "NumPy provides a helper function: `vstack()` to stack along columns."
   ]
  },
  {
   "cell_type": "code",
   "execution_count": 42,
   "metadata": {},
   "outputs": [
    {
     "name": "stdout",
     "output_type": "stream",
     "text": [
      "Stacking along columns: [[1 2]\n",
      " [3 4]\n",
      " [5 6]\n",
      " [7 8]]\n"
     ]
    }
   ],
   "source": [
    "stack_along_columns = np.vstack((arr1, arr2))\n",
    "\n",
    "print(f\"Stacking along columns: {stack_along_columns}\")"
   ]
  },
  {
   "cell_type": "markdown",
   "metadata": {},
   "source": [
    "#### Stacking Along Height (depth)\n",
    "NumPy provides a helper function: `dstack()` to stack along height, which is the same as depth\n",
    "    \n",
    "Height stacking increases Array Dimension"
   ]
  },
  {
   "cell_type": "code",
   "execution_count": 47,
   "metadata": {},
   "outputs": [
    {
     "name": "stdout",
     "output_type": "stream",
     "text": [
      "Stacking along height:\n",
      " [[[1 5]\n",
      "  [2 6]]\n",
      "\n",
      " [[3 7]\n",
      "  [4 8]]]\n"
     ]
    }
   ],
   "source": [
    "stack_along_depth = np.dstack((arr1, arr2))\n",
    "print(f\"Stacking along height:\\n {stack_along_depth}\")"
   ]
  },
  {
   "cell_type": "markdown",
   "metadata": {},
   "source": [
    "### Splitting\n",
    "   - **Introduction**\n",
    "   - **Splitting 2D Arrays**"
   ]
  },
  {
   "cell_type": "markdown",
   "metadata": {},
   "source": [
    "#### Introduction\n",
    "   - Splitting is reverse operation of joining\n",
    "   - Joining merges multiple arrays into one and Splitting breaks one array into multiple one.\n",
    "   - We use `array_split()` for splitting arrays.\n",
    "   - We pass it the array we want to split and the number of splits.\n",
    "   - **Example:**"
   ]
  },
  {
   "cell_type": "code",
   "execution_count": 52,
   "metadata": {},
   "outputs": [
    {
     "name": "stdout",
     "output_type": "stream",
     "text": [
      "array after splitting is: [array([1, 2, 3]), array([4, 5, 6]), array([7, 8])]\n"
     ]
    }
   ],
   "source": [
    "# splitting 1D arrays\n",
    "\n",
    "arr = np.array([1, 2, 3, 4, 5, 6, 7, 8])\n",
    "\n",
    "newarr = np.array_split(arr, 3)\n",
    "\n",
    "print(f\"array after splitting is: {newarr}\")"
   ]
  },
  {
   "cell_type": "markdown",
   "metadata": {},
   "source": [
    "If the array has less elements than required, then last end array is null"
   ]
  },
  {
   "cell_type": "markdown",
   "metadata": {},
   "source": [
    "`Q. Split [1, 2, 3, 4, 5, 6] into four parts`"
   ]
  },
  {
   "cell_type": "code",
   "execution_count": 8,
   "metadata": {},
   "outputs": [
    {
     "name": "stdout",
     "output_type": "stream",
     "text": [
      "origina array: [1 2 3 4 5 6]\n",
      "splitted array using array_split(): [array([1, 2]), array([3, 4]), array([5]), array([6])]\n"
     ]
    }
   ],
   "source": [
    "# define array\n",
    "arr = np.array([1, 2, 3, 4, 5, 6])\n",
    "print(f\"origina array: {arr}\")\n",
    "\n",
    "# split\n",
    "splitted_arr = np.array_split(arr, 4)\n",
    "print(f\"splitted array using array_split(): {splitted_arr}\")"
   ]
  },
  {
   "cell_type": "markdown",
   "metadata": {},
   "source": [
    "**Note:**\n",
    "`We also have method split() available but it will not adjust elements when elements are less in source array for splitting like in example above`  \n",
    "\n",
    "`In such case **array_split()** worked properly but **split()** would fail.`\n",
    "\n",
    "Let's see **split()** gives error "
   ]
  },
  {
   "cell_type": "code",
   "execution_count": 9,
   "metadata": {},
   "outputs": [
    {
     "name": "stdout",
     "output_type": "stream",
     "text": [
      "***As Expected split() throws an error:***\n",
      "\n"
     ]
    },
    {
     "ename": "ValueError",
     "evalue": "array split does not result in an equal division",
     "output_type": "error",
     "traceback": [
      "\u001b[0;31m---------------------------------------------------------------------------\u001b[0m",
      "\u001b[0;31mTypeError\u001b[0m                                 Traceback (most recent call last)",
      "\u001b[0;32m~/.local/lib/python3.8/site-packages/numpy/lib/shape_base.py\u001b[0m in \u001b[0;36msplit\u001b[0;34m(ary, indices_or_sections, axis)\u001b[0m\n\u001b[1;32m    866\u001b[0m     \u001b[0;32mtry\u001b[0m\u001b[0;34m:\u001b[0m\u001b[0;34m\u001b[0m\u001b[0;34m\u001b[0m\u001b[0m\n\u001b[0;32m--> 867\u001b[0;31m         \u001b[0mlen\u001b[0m\u001b[0;34m(\u001b[0m\u001b[0mindices_or_sections\u001b[0m\u001b[0;34m)\u001b[0m\u001b[0;34m\u001b[0m\u001b[0;34m\u001b[0m\u001b[0m\n\u001b[0m\u001b[1;32m    868\u001b[0m     \u001b[0;32mexcept\u001b[0m \u001b[0mTypeError\u001b[0m\u001b[0;34m:\u001b[0m\u001b[0;34m\u001b[0m\u001b[0;34m\u001b[0m\u001b[0m\n",
      "\u001b[0;31mTypeError\u001b[0m: object of type 'int' has no len()",
      "\nDuring handling of the above exception, another exception occurred:\n",
      "\u001b[0;31mValueError\u001b[0m                                Traceback (most recent call last)",
      "\u001b[0;32m<ipython-input-9-da137efcf8fe>\u001b[0m in \u001b[0;36m<module>\u001b[0;34m\u001b[0m\n\u001b[1;32m      3\u001b[0m \u001b[0mprint\u001b[0m\u001b[0;34m(\u001b[0m\u001b[0;34m\"***As Expected split() throws an error:***\\n\"\u001b[0m\u001b[0;34m)\u001b[0m\u001b[0;34m\u001b[0m\u001b[0;34m\u001b[0m\u001b[0m\n\u001b[1;32m      4\u001b[0m \u001b[0;34m\u001b[0m\u001b[0m\n\u001b[0;32m----> 5\u001b[0;31m \u001b[0msplit_arr\u001b[0m \u001b[0;34m=\u001b[0m \u001b[0mnp\u001b[0m\u001b[0;34m.\u001b[0m\u001b[0msplit\u001b[0m\u001b[0;34m(\u001b[0m\u001b[0marr\u001b[0m\u001b[0;34m,\u001b[0m \u001b[0;36m4\u001b[0m\u001b[0;34m)\u001b[0m\u001b[0;34m\u001b[0m\u001b[0;34m\u001b[0m\u001b[0m\n\u001b[0m",
      "\u001b[0;32m<__array_function__ internals>\u001b[0m in \u001b[0;36msplit\u001b[0;34m(*args, **kwargs)\u001b[0m\n",
      "\u001b[0;32m~/.local/lib/python3.8/site-packages/numpy/lib/shape_base.py\u001b[0m in \u001b[0;36msplit\u001b[0;34m(ary, indices_or_sections, axis)\u001b[0m\n\u001b[1;32m    870\u001b[0m         \u001b[0mN\u001b[0m \u001b[0;34m=\u001b[0m \u001b[0mary\u001b[0m\u001b[0;34m.\u001b[0m\u001b[0mshape\u001b[0m\u001b[0;34m[\u001b[0m\u001b[0maxis\u001b[0m\u001b[0;34m]\u001b[0m\u001b[0;34m\u001b[0m\u001b[0;34m\u001b[0m\u001b[0m\n\u001b[1;32m    871\u001b[0m         \u001b[0;32mif\u001b[0m \u001b[0mN\u001b[0m \u001b[0;34m%\u001b[0m \u001b[0msections\u001b[0m\u001b[0;34m:\u001b[0m\u001b[0;34m\u001b[0m\u001b[0;34m\u001b[0m\u001b[0m\n\u001b[0;32m--> 872\u001b[0;31m             raise ValueError(\n\u001b[0m\u001b[1;32m    873\u001b[0m                 'array split does not result in an equal division')\n\u001b[1;32m    874\u001b[0m     \u001b[0;32mreturn\u001b[0m \u001b[0marray_split\u001b[0m\u001b[0;34m(\u001b[0m\u001b[0mary\u001b[0m\u001b[0;34m,\u001b[0m \u001b[0mindices_or_sections\u001b[0m\u001b[0;34m,\u001b[0m \u001b[0maxis\u001b[0m\u001b[0;34m)\u001b[0m\u001b[0;34m\u001b[0m\u001b[0;34m\u001b[0m\u001b[0m\n",
      "\u001b[0;31mValueError\u001b[0m: array split does not result in an equal division"
     ]
    }
   ],
   "source": [
    "arr = np.array([1, 2, 3, 4, 5, 6])\n",
    "\n",
    "print(\"***As Expected split() throws an error:***\\n\")\n",
    "\n",
    "split_arr = np.split(arr, 4)"
   ]
  },
  {
   "cell_type": "markdown",
   "metadata": {},
   "source": [
    "#### Splitting 2D Arrays\n",
    "- Use the same syntax when splitting 2D arrays\n",
    "- use `array_split()` method, pass in the array you want to split and the number of split you want to do."
   ]
  },
  {
   "cell_type": "markdown",
   "metadata": {},
   "source": [
    "`Q. Split the 2D array into 3 2D arrays`"
   ]
  },
  {
   "cell_type": "code",
   "execution_count": 57,
   "metadata": {},
   "outputs": [
    {
     "name": "stdout",
     "output_type": "stream",
     "text": [
      "Splitting 2D array into 3 2D array:\n",
      " [array([[1, 2],\n",
      "       [3, 4]]), array([[5, 6],\n",
      "       [7, 8]]), array([[ 9, 10],\n",
      "       [11, 12]])]\n"
     ]
    }
   ],
   "source": [
    "# Split Example 1\n",
    "sample_arr = np.array([[1, 2], [3, 4], [5, 6], [7, 8], [9, 10], [11, 12]])\n",
    "\n",
    "split_sample_arr = np.array_split(sample_arr, 3)\n",
    "\n",
    "print(f\"Splitting 2D array into 3 2D array:\\n {split_sample_arr}\")"
   ]
  },
  {
   "cell_type": "code",
   "execution_count": 58,
   "metadata": {},
   "outputs": [
    {
     "name": "stdout",
     "output_type": "stream",
     "text": [
      "Splitting 2D array into 3 2D array:\n",
      " [array([[1, 2, 3],\n",
      "       [4, 5, 6]]), array([[ 7,  8,  9],\n",
      "       [10, 11, 12]]), array([[13, 14, 15],\n",
      "       [16, 17, 18]])]\n"
     ]
    }
   ],
   "source": [
    "# Split Example 2\n",
    "sample_arr = np.array([[1, 2, 3], [4, 5, 6], [7, 8, 9], [10, 11, 12], [13, 14, 15], [16, 17, 18]])\n",
    "\n",
    "# split into 3 sub 2D arrays\n",
    "split_sample_arr = np.array_split(sample_arr, 3)\n",
    "\n",
    "print(f\"Splitting 2D array into 3 2D array:\\n {split_sample_arr}\")"
   ]
  },
  {
   "cell_type": "markdown",
   "metadata": {},
   "source": [
    "- In addition you can specify which axis you want to do the split around\n",
    "- The example below also returns three 2D arrays, but they are split along the row(axis=1)"
   ]
  },
  {
   "cell_type": "code",
   "execution_count": 78,
   "metadata": {},
   "outputs": [
    {
     "name": "stdout",
     "output_type": "stream",
     "text": [
      "[array([[ 1],\n",
      "       [ 4],\n",
      "       [ 7],\n",
      "       [10],\n",
      "       [13]]), array([[ 2],\n",
      "       [ 5],\n",
      "       [ 8],\n",
      "       [11],\n",
      "       [14]]), array([[ 3],\n",
      "       [ 6],\n",
      "       [ 9],\n",
      "       [12],\n",
      "       [15]])]\n"
     ]
    }
   ],
   "source": [
    "arr = np.array([[1, 2, 3], [4, 5, 6], [7, 8, 9], [10, 11, 12], [13, 14, 15]])\n",
    "\n",
    "newarr = np.array_split(arr, 3, axis=1)\n",
    "\n",
    "print(newarr)"
   ]
  },
  {
   "cell_type": "markdown",
   "metadata": {},
   "source": [
    "An alternate solution is using `hsplit()` opposite of `hstack()`"
   ]
  },
  {
   "cell_type": "code",
   "execution_count": 74,
   "metadata": {},
   "outputs": [
    {
     "name": "stdout",
     "output_type": "stream",
     "text": [
      "hsplit:\n",
      " [array([[ 1],\n",
      "       [ 4],\n",
      "       [ 7],\n",
      "       [10],\n",
      "       [13],\n",
      "       [16]]), array([[ 2],\n",
      "       [ 5],\n",
      "       [ 8],\n",
      "       [11],\n",
      "       [14],\n",
      "       [17]]), array([[ 3],\n",
      "       [ 6],\n",
      "       [ 9],\n",
      "       [12],\n",
      "       [15],\n",
      "       [18]])]\n",
      "vsplit:\n",
      " [array([[1, 2, 3],\n",
      "       [4, 5, 6]]), array([[ 7,  8,  9],\n",
      "       [10, 11, 12]]), array([[13, 14, 15],\n",
      "       [16, 17, 18]])]\n"
     ]
    }
   ],
   "source": [
    "arr = np.array([[1, 2, 3], [4, 5, 6], [7, 8, 9], [10, 11, 12], [13, 14, 15], [16, 17, 18]])\n",
    "\n",
    "newarr_hsplit = np.hsplit(arr, 3)\n",
    "newarr_vsplit = np.vsplit(arr, 3)\n",
    "print(f\"hsplit:\\n {newarr_hsplit}\")\n",
    "\n",
    "print(f\"vsplit:\\n {newarr_vsplit}\")"
   ]
  },
  {
   "cell_type": "markdown",
   "metadata": {},
   "source": [
    "Also, <strong>dsplit()</strong> is alternate to dstack().<br>\n",
    "<strong>dsplit()</strong> only works for array of 3 or more dimension"
   ]
  },
  {
   "cell_type": "markdown",
   "metadata": {},
   "source": [
    "## Find index of all **peaks** in a 1D array\n",
    "- Here peaks are point surrounded by small value\n",
    "- A array element is <code>peak</code> if it is not smaller than its neighbour values\n",
    "- **Example:**\n",
    "    - **Inputs:** array[] = {10, 20, 15, 2, 23, 90, 67}\n",
    "    - **Outputs: </strong> 20 or 90\n",
    "    - The element 20 has neighbours 10 and 15, both of them are less than 20, Similarly 90 has neighbours 23 and 67.\n",
    "    \n",
    "- **Note:**\n",
    "   - If the input array is sorted in ascending order, the last element is always a peak element.\n",
    "   - If the input array is sorted in descending order, the first element is always a peak element.\n",
    "   - If all elements of input array are same, every element is a peak element.\n",
    "    \n",
    "- **Naive Approach:** The array can be traversed and the element whose neighbours are less than that element can be noted.\n",
    "   - **Algorithm:**\n",
    "      - If in the array, the first element is greater than the second or the last element is greater than the second last, then those are the peak element, so note index       \n",
    "      - For others peak element, traverse the array from the second index to the second last index   \n",
    "      - If for an element array[i], it is greater than both its neighbour, i.e., array[i]>array[i-1] and array[i]>array[i+1], then note the index of that element.    "
   ]
  },
  {
   "cell_type": "code",
   "execution_count": 95,
   "metadata": {},
   "outputs": [
    {
     "name": "stdout",
     "output_type": "stream",
     "text": [
      "List of all the index of peak elements in array [10 20 15  2 23 90 67] is\u0007re:\n",
      " [1, 5]\n"
     ]
    }
   ],
   "source": [
    "# arr = np.array([1, 2, 3, 4, 5, 6])\n",
    "\n",
    "def find_peak_index_in_array(sample_array):  \n",
    "    \"\"\"\n",
    "    finds and returns the list of index of all the peak elements in the sample array(1D) passed as an arguments using \n",
    "    naive approach\n",
    "    \n",
    "    Arguments:\n",
    "    sample_array: sample array from which index of peak elements to be extracted\n",
    "    \n",
    "    Returns:\n",
    "    peak_index_list: List containing index of all the peak elements in sample array\n",
    "    \"\"\"\n",
    "    arr_len = sample_array.shape[0]\n",
    "    peak_index_list = []\n",
    "\n",
    "    # extract peak index if peak element is first and last element of array\n",
    "    if sample_array[0]>sample_array[1]:\n",
    "        peak_index_list.append(0)\n",
    "    elif sample_array[arr_len-1]>sample_array[arr_len-2]:\n",
    "        peak_index_list.append(arr_len-1)\n",
    "\n",
    "    for index in range(1, arr_len-1):\n",
    "        if (sample_array[index]>=sample_array[index-1] and sample_array[index]>=sample_array[index+1]):\n",
    "            peak_index_list.append(index)\n",
    "    return peak_index_list\n",
    "\n",
    "sample_array = np.array([10, 20, 15, 2, 23, 90, 67])\n",
    "\n",
    "peak_index_list = find_peak_index_in_array(sample_array)\n",
    "\n",
    "print(f\"List of all the index of peak elements in array {sample_array} is\\are:\\n {peak_index_list}\")"
   ]
  },
  {
   "cell_type": "markdown",
   "metadata": {},
   "source": [
    "**Complexity Analysis:**\n",
    "   - **Time Complexity:**O(n)\n",
    "      - One traversal is needed through entire 1D array, so the time complexity is O(n)\n",
    "     \n",
    "   - **Space Complexity:**O(1)\n",
    "      - No extra space is needed in the process of obtaining answer, so space complexity is constant\n",
    "     \n",
    "    \n",
    "`Visit for more about complexity:`[Complexity Analysis](https://medium.com/@whosale/understanding-time-and-space-complexity-f94b3140541b)"
   ]
  },
  {
   "cell_type": "markdown",
   "metadata": {},
   "source": [
    "- **Divide and Conquer**\n",
    "   - `Divide and Conquer` can be used to find the peak in **O(Logn)** time  \n",
    "   - The idea is based on the technique of binary search to check if the middle element is the peak element or not.\n",
    "   - If the middle element is not the peak element, then check, \n",
    "   - if the element on the right side is greater than the middle element then there is always a peak element on the right side.\n",
    "   - If the element on the left side is greater than the middle element then there is always a peak element on the left side.\n",
    "   - Using recursion, the peak element can be found in **Log n** time.\n",
    "    \n",
    "\n",
    "\n",
    "- **Algorithm:**\n",
    "   - Create two variables, l and r, initialize l=0 and r=n-1\n",
    "   - Iterate the steps below till l <= r, lowerbound is less than the upperbound\n",
    "   - Check if the mid value or index mid = (l+r)/2, is the peak element or not, if yes then print the element and terminate\n",
    "   - Else if the element on the left side of the middle element is greater, then check for peak element on the left side, i.e. update r = mid-1\n",
    "   - Else if the element on the right side of the middle element is greater, then check for peak element on the right side, i.e. update l = mid+1\n",
    "    "
   ]
  },
  {
   "cell_type": "code",
   "execution_count": 100,
   "metadata": {},
   "outputs": [
    {
     "name": "stdout",
     "output_type": "stream",
     "text": [
      "Index of a peak point is:  1\n"
     ]
    }
   ],
   "source": [
    "# A python3 program to find a peak element using divide and conquer strategy\n",
    "# Define a binary search based function that returns index of a peak element\n",
    "def find_peak_divide_conquer(arr, low, high, n):\n",
    "    \"\"\"\n",
    "    Returns a peak element from the input array passed as an argument with the technique of divide and conquer \n",
    "    recursively (i.e. calling the same function multiple times.)\n",
    "    \n",
    "    Arguments:\n",
    "    arr: sample array, 1D numpy array\n",
    "    low: index of first element of array\n",
    "    high: index of last element of array\n",
    "    n: number of elements in the array, length of 1D array\n",
    "    \n",
    "    Return:\n",
    "    a peak element from an input array\n",
    "    \"\"\"\n",
    "    # Find index of middile element i.e. (low+high)/2\n",
    "    mid = low+(high-low)/2\n",
    "    mid = int(mid)\n",
    "    \n",
    "    # Compare middle element with its neighbours (if neighbour exists)\n",
    "    if ((mid == 0 or arr[mid - 1] <= arr[mid]) and (mid == n - 1 or arr[mid + 1] <= arr[mid])): \n",
    "        return mid\n",
    "    # If middle element is not peak and its left neighbour is greater than it, then left half must have a peak\n",
    "    elif(mid>0 and arr[mid-1]>arr[mid]):\n",
    "        return find_peak_divide_conquer(array, low, (mid-1), n)\n",
    "    \n",
    "    # If middle element is not peak and its right neighbour is greater than it, the right half must have a peak\n",
    "    else:\n",
    "        return find_peak_divide_conquer(array, (mid+1), high, n)\n",
    "    \n",
    "# Define rapper over recursive function find_peak_divide_conquer()\n",
    "def find_peak(array, n):\n",
    "    return find_peak_divide_conquer(array, 0, n-1, n)\n",
    "# Sample array \n",
    "array = np.array([10, 20, 15, 2, 23, 90, 67])\n",
    "n = array.shape[0]\n",
    "print(\"Index of a peak point is: \", find_peak(array, n))"
   ]
  },
  {
   "cell_type": "markdown",
   "metadata": {},
   "source": [
    "As we can see we have obtained 1st peak point i.e. at index 1: <code>20</code>"
   ]
  },
  {
   "cell_type": "markdown",
   "metadata": {},
   "source": [
    "**Complexity Analysis:**\n",
    "   - **Time Complexity:**O(n)\n",
    "      - Where n is the number of elements in the input array. In each step our search becomes half. So it can be compared to Binary Search. So the time complexity is `O(logn)`\n",
    "     \n",
    "   - **Space Complexity:**O(1)\n",
    "      - No extra space is needed in the process of obtaining answer, so space complexity is constant\n",
    "     \n",
    "    \n",
    "`Visit for more about complexity:`[Complexity Analysis](https://medium.com/@whosale/understanding-time-and-space-complexity-f94b3140541b)"
   ]
  },
  {
   "cell_type": "markdown",
   "metadata": {},
   "source": [
    "## Subtract a 1D array from the 2D array   \n",
    "\n",
    "`Q. Subtract 1d array from 2d array such that each item of 1d array subtracts from respective row of 2D array`\n",
    "   \n",
    "Before answer to the question, let's understand the concept of **BroadCasting with Numpy Arrays**"
   ]
  },
  {
   "cell_type": "markdown",
   "metadata": {},
   "source": [
    "#### Broadcasting with NumPy Arrays\n",
    "   - The term **broadcasting** refers to how numpy treats with different Dimension during arithmetic operations which lead to certain constraints, the smaller array is broadcast to larger array so that they have compatible shapes.\n",
    "   - Broadcasting provides a means of vectorizing array operations so that looping occurs in C instead of Python as NumPy is implemented in C.\n",
    "   - It does this without making needless copies of data and which leads to efficient algorithm implementations.\n",
    "   - There are cases where broadcasting is a bad idea because it leads to inefficient use of memory that slow down the computation.\n",
    "   - **Example:**\n",
    "      - Scaling 2D array with 1D array\n",
    "\n",
    "`Answer: Now let's use this broadcasting concept to answer the above questions`"
   ]
  },
  {
   "cell_type": "code",
   "execution_count": 126,
   "metadata": {},
   "outputs": [
    {
     "name": "stdout",
     "output_type": "stream",
     "text": [
      " [[ 4  5  6]\n",
      " [ 7  8  9]\n",
      " [10 11 12]] Minus [1 2 3] \n",
      " is: \n",
      "[[3 4 5]\n",
      " [5 6 7]\n",
      " [7 8 9]]\n"
     ]
    }
   ],
   "source": [
    "def subtract_1D_from_2D_array(one_d_array, two_d_array):\n",
    "    # Reshape 1D array to (one_d_array.shape[0], 1)\n",
    "    one_d_array = one_d_array.reshape(one_d_array.shape[0], 1)\n",
    "    \n",
    "    # Subtract reshaped 1D array from 2D array\n",
    "    # broadcasting take place to match size to 2D array\n",
    "    subtract_result = two_d_array-one_d_array\n",
    "    \n",
    "    return subtract_result\n",
    "\n",
    "# Initialize random array\n",
    "one_d_array = np.array([1, 2, 3])\n",
    "two_d_array = np.array([[4, 5, 6], [7, 8, 9], [10, 11, 12]])\n",
    "\n",
    "# Subtraction\n",
    "subtract_result = subtract_1D_from_2D_array(one_d_array, two_d_array)\n",
    "print(f\" {two_d_array} Minus {one_d_array} \\n is: \\n{subtract_result}\")"
   ]
  }
 ],
 "metadata": {
  "kernelspec": {
   "display_name": "Python 3",
   "language": "python",
   "name": "python3"
  },
  "language_info": {
   "codemirror_mode": {
    "name": "ipython",
    "version": 3
   },
   "file_extension": ".py",
   "mimetype": "text/x-python",
   "name": "python",
   "nbconvert_exporter": "python",
   "pygments_lexer": "ipython3",
   "version": "3.8.5"
  }
 },
 "nbformat": 4,
 "nbformat_minor": 4
}
